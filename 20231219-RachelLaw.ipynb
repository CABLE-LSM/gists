{
 "cells": [
  {
   "cell_type": "code",
   "execution_count": 2,
   "id": "b83a00fd-8b48-40eb-ba1d-3ec01f1fc3cd",
   "metadata": {},
   "outputs": [],
   "source": [
    "# Import modules\n",
    "import six\n",
    "import mule\n",
    "import numpy as np\n",
    "import xarray as xr\n",
    "import os\n",
    "from datetime import datetime"
   ]
  },
  {
   "cell_type": "code",
   "execution_count": 3,
   "id": "32b5db98-0dbd-4274-8455-e2d2ef64b9ed",
   "metadata": {},
   "outputs": [],
   "source": [
    "# Set some config\n",
    "restart_filepath = '/g/data/p66/rml599/LandUse-tests/pre-industrial-essential.astart'\n",
    "stash_master_filepath = '/g/data/access/projects/access/umdir/vn10.9/ctldata/STASHmaster/STASHmaster_A'\n",
    "stash_range = range(851, 860+1)\n",
    "step2 = True"
   ]
  },
  {
   "cell_type": "code",
   "execution_count": 4,
   "id": "4fa45db3-eb1d-4a16-8462-7ef9d8490e27",
   "metadata": {},
   "outputs": [
    {
     "name": "stderr",
     "output_type": "stream",
     "text": [
      "/g/data/hh5/public/apps/miniconda3/envs/analysis3-23.07/lib/python3.10/site-packages/mule/stashmaster.py:259: UserWarning: \n",
      "Unable to load STASHmaster from version string, path does not exist\n",
      "Path: $UMDIR/vn7.3/ctldata/STASHmaster/STASHmaster_A\n",
      "Please check that the value of mule.stashmaster.STASHMASTER_PATH_PATTERN is correct for your site/configuration\n",
      "  warnings.warn(msg)\n",
      "/g/data/hh5/public/apps/miniconda3/envs/analysis3-23.07/lib/python3.10/site-packages/mule/validators.py:198: UserWarning: \n",
      "File: /g/data/p66/rml599/LandUse-tests/pre-industrial-essential.astart\n",
      "Incorrect dataset_type (found 1, should be one of (3,))\n",
      "  warnings.warn(msg)\n"
     ]
    }
   ],
   "source": [
    "# Load the file\n",
    "restart = mule.FieldsFile.from_file(restart_filepath)"
   ]
  },
  {
   "cell_type": "code",
   "execution_count": 5,
   "id": "7c4b4622-5a78-4588-9e00-b32dad25e2d3",
   "metadata": {},
   "outputs": [],
   "source": [
    "# Extract data from UM file.\n",
    "def extract_data_array(restart, stash_code, num_levels=5, do_mean=True):\n",
    "\n",
    "    data = None\n",
    "    \n",
    "    for field in restart.fields:\n",
    "        if field.lbuser4 == stash_code and field.lbuser5 in range(1, num_levels+1):\n",
    "\n",
    "            # First encounter, create the data object\n",
    "            if data is None:\n",
    "                shape = (num_levels, *field.get_data().shape)\n",
    "                data = np.zeros(shape)\n",
    "\n",
    "            ix = field.lbuser5 - 1\n",
    "            data[ix, :, :] = field.get_data()\n",
    "\n",
    "    # Create a data array\n",
    "    da = xr.DataArray(\n",
    "        data,\n",
    "        dims=('z', 'x', 'y')\n",
    "    )\n",
    "\n",
    "    if do_mean is False:\n",
    "        return da\n",
    "\n",
    "    # Nan the fill value\n",
    "    # fill_value = da.min()\n",
    "    # Leaving this out makes ocean super negative and the data invisible (only use for plotting!!)\n",
    "    # da = da.where(da != fill_value)\n",
    "    \n",
    "    da_mean = da.mean('z')\n",
    "\n",
    "    return da_mean"
   ]
  },
  {
   "cell_type": "code",
   "execution_count": 6,
   "id": "5630ebe6-8307-43d2-87f6-2e927d48832e",
   "metadata": {},
   "outputs": [],
   "source": [
    "# STEP 2 - User predefined vegfrac\n",
    "vegfrac = '/g/data/p66/rml599/LandUse-tests/vegfrac-dom-tree.nc'\n",
    "vf = xr.open_dataset(vegfrac)\n",
    "vfs = vf.fraction.data.squeeze()"
   ]
  },
  {
   "cell_type": "code",
   "execution_count": 7,
   "id": "ebfdfe8a-4b6d-4639-89ea-e304711afad1",
   "metadata": {},
   "outputs": [],
   "source": [
    "# Modify the fields\n",
    "new_restart = restart.copy()\n",
    "\n",
    "providers = dict()\n",
    "\n",
    "# Extract the data\n",
    "for stash in stash_range:\n",
    "    new_field = extract_data_array(restart, stash)\n",
    "    providers[stash] = mule.ArrayDataProvider(new_field.data[:])\n",
    "\n",
    "# Loop 2 - Create a new field file\n",
    "for field in restart.fields:\n",
    "\n",
    "    stash_code = field.lbuser4\n",
    "    level = field.lbuser5\n",
    "\n",
    "    # If it is one of the fields we want to modify, do it\n",
    "    if stash_code in providers.keys() and level <= 5:\n",
    "        # new_restart.fields.append(operators[stash_code])\n",
    "        field.set_data_provider(providers[stash_code])\n",
    "\n",
    "    # STEP 2\n",
    "    if stash_code in [216, 835] and step2 == True:\n",
    "        # print(f'Updating {stash_code}')\n",
    "        dp = mule.ArrayDataProvider(vfs[level-1,:,:])\n",
    "        field.set_data_provider(dp)\n",
    "    \n",
    "    new_restart.fields.append(field)"
   ]
  },
  {
   "cell_type": "code",
   "execution_count": 8,
   "id": "02fab67e-5658-4099-b9c4-0829945e5c78",
   "metadata": {},
   "outputs": [],
   "source": [
    "# Intercept the write function to disable validation\n",
    "def to_file(self, output_file_or_path):\n",
    "        \"\"\"\n",
    "        Write to an output file or path.\n",
    "\n",
    "        Args:\n",
    "            * output_file_or_path (string or file-like):\n",
    "                An open file or filepath. If a path, it is opened and\n",
    "                closed again afterwards.\n",
    "\n",
    "        .. Note::\n",
    "            As part of this the \"validate\" method will be called. For the\n",
    "            base :class:`UMFile` class this does nothing, but sub-classes\n",
    "            may override it to provide specific validation checks.\n",
    "\n",
    "        \"\"\"\n",
    "        # Call validate - to ensure the file about to be written out doesn't\n",
    "        # contain obvious errors.  This is done here before any new file is\n",
    "        # created so that we don't create a blank file if the validation fails\n",
    "        if isinstance(output_file_or_path, six.string_types):\n",
    "            self.validate(filename=output_file_or_path, warn=True)\n",
    "        else:\n",
    "            self.validate(filename=output_file_or_path.name, warn=True)\n",
    "\n",
    "        if isinstance(output_file_or_path, six.string_types):\n",
    "            with open(output_file_or_path, 'wb') as output_file:\n",
    "                self._write_to_file(output_file)\n",
    "        else:\n",
    "            self._write_to_file(output_file_or_path)\n",
    "\n",
    "new_restart.to_file = to_file"
   ]
  },
  {
   "cell_type": "code",
   "execution_count": 9,
   "id": "7cc3b786-30f5-48b0-9589-a05b53a6167d",
   "metadata": {},
   "outputs": [
    {
     "name": "stderr",
     "output_type": "stream",
     "text": [
      "/g/data/hh5/public/apps/miniconda3/envs/analysis3-23.07/lib/python3.10/site-packages/mule/validators.py:198: UserWarning: \n",
      "File: /g/data/p66/bjs581/mean5_VF_851-860_20231218_230239.astart\n",
      "Incorrect dataset_type (found 1, should be one of (3,))\n",
      "  warnings.warn(msg)\n"
     ]
    }
   ],
   "source": [
    "# Write out the data.\n",
    "stash_start, stash_end = stash_range[0], stash_range[-1]\n",
    "timestamp = datetime.utcnow().strftime('%Y%m%d_%H%M%S')\n",
    "output_filename = f'mean5_{stash_start}-{stash_end}_{timestamp}.astart'\n",
    "output_filename = f'mean5_VF_{stash_start}-{stash_end}_{timestamp}.astart'\n",
    "# output_dir = '/g/data/rp23/bjs581/work/rachel'\n",
    "output_dir = '/g/data/p66/bjs581'\n",
    "output_filepath = f'{output_dir}/{output_filename}'\n",
    "\n",
    "new_restart.to_file(new_restart, output_file_or_path=output_filepath)"
   ]
  },
  {
   "cell_type": "code",
   "execution_count": null,
   "id": "b512c93a-74a4-4bb2-9e03-1cd532a9af9f",
   "metadata": {},
   "outputs": [],
   "source": []
  }
 ],
 "metadata": {
  "kernelspec": {
   "display_name": "Python [conda env:analysis3-23.07]",
   "language": "python",
   "name": "conda-env-analysis3-23.07-py"
  },
  "language_info": {
   "codemirror_mode": {
    "name": "ipython",
    "version": 3
   },
   "file_extension": ".py",
   "mimetype": "text/x-python",
   "name": "python",
   "nbconvert_exporter": "python",
   "pygments_lexer": "ipython3",
   "version": "3.10.13"
  }
 },
 "nbformat": 4,
 "nbformat_minor": 5
}
